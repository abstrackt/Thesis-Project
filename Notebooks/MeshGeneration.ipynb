{
 "cells": [
  {
   "cell_type": "code",
   "execution_count": 3,
   "id": "49665b03",
   "metadata": {
    "collapsed": true
   },
   "outputs": [],
   "source": [
    "file_name = \"VSD\"\n",
    "class_name = \"aorta\""
   ]
  },
  {
   "cell_type": "code",
   "execution_count": 4,
   "id": "e97a341e",
   "metadata": {},
   "outputs": [
    {
     "name": "stdout",
     "output_type": "stream",
     "text": [
      "./segmentations/VSD/\n",
      "./segmentations/VSD/mhd/\n"
     ]
    }
   ],
   "source": [
    "import os\n",
    "import SimpleITK as sitk\n",
    "\n",
    "# Generate MHD sigmoid mask\n",
    "\n",
    "indir = \"./segmentations/\" + file_name + \"/\";\n",
    "outdir = \"./segmentations/\" + file_name + \"/mhd/\";\n",
    "\n",
    "print(indir)\n",
    "print(outdir)\n",
    "\n",
    "if not os.path.exists(outdir) :\n",
    "    os.makedirs(outdir)\n",
    "    \n",
    "for file in os.listdir(indir):\n",
    "    if os.path.isfile(indir + file) and \".nii.gz\" in file :\n",
    "        img = sitk.ReadImage(indir + file)\n",
    "        \n",
    "        path = outdir + file.replace(\".nii.gz\", \".mhd\")\n",
    "        scale_filter = sitk.ShiftScaleImageFilter()\n",
    "        scale_filter.SetScale(100)\n",
    "        res = scale_filter.Execute(img)\n",
    "\n",
    "        minmax_filter = sitk.MinimumMaximumImageFilter()\n",
    "        minmax_filter.Execute(img)\n",
    "        \n",
    "        if minmax_filter.GetMaximum() != 0 :\n",
    "            sitk.WriteImage(res, path)"
   ]
  },
  {
   "cell_type": "markdown",
   "id": "6aed9f67",
   "metadata": {},
   "source": [
    "Mesh generation from MHD voxel files using FAST extraction"
   ]
  },
  {
   "cell_type": "code",
   "execution_count": null,
   "id": "76291986",
   "metadata": {
    "collapsed": true
   },
   "outputs": [],
   "source": [
    "from stl import mesh as stmesh\n",
    "import math\n",
    "import numpy as np\n",
    "import fast\n",
    "\n",
    "indir = \"./segmentations/\" + file_name + \"/mhd/\";\n",
    "outdir = \"./meshes/stl\";\n",
    "\n",
    "# Spine\n",
    "#files = [\\\n",
    "#    \"vertebrae_L1\",\\\n",
    "#    \"vertebrae_L2\",\\\n",
    "#    \"vertebrae_L3\",\\\n",
    "#    \"vertebrae_L4\",\\\n",
    "#    \"vertebrae_L5\",\\\n",
    "#    \"vertebrae_T1\",\\\n",
    "#    \"vertebrae_T10\",\\\n",
    "#    \"vertebrae_T11\",\\\n",
    "#    \"vertebrae_T12\",\\\n",
    "#    \"vertebrae_T2\",\\\n",
    "#    \"vertebrae_T3\",\\\n",
    "#    \"vertebrae_T4\",\\\n",
    "#    \"vertebrae_T5\",\\\n",
    "#    \"vertebrae_T6\",\\\n",
    "#    \"vertebrae_T7\",\\\n",
    "#    \"vertebrae_T8\",\\\n",
    "#    \"vertebrae_T9\",\\\n",
    "#    \"sacrum\"];\n",
    "\n",
    "# Heart\n",
    "#files = [\\\n",
    "#    \"heart_atrium_left\",\\\n",
    "#    \"heart_atrium_right\",\\\n",
    "#    \"heart_myocardium\",\\\n",
    "#    \"heart_ventricle_left\",\\\n",
    "#    \"heart_ventricle_right\"];\n",
    "\n",
    "# Aorta\n",
    "files = [\"aorta\"]\n",
    "\n",
    "verts = []\n",
    "faces = []\n",
    "\n",
    "offset = 0\n",
    "\n",
    "for file in files:\n",
    "    importer = fast.ImageFileImporter.create(indir + file + \".mhd\")\n",
    "    smoothing = fast.GaussianSmoothing.create(stdDev=2.0).connect(importer)\n",
    "    extraction = fast.SurfaceExtraction.create(threshold=50).connect(smoothing)\n",
    "    mesh = extraction.runAndGetOutputData()\n",
    "    access = mesh.getMeshAccess(fast.ACCESS_READ)\n",
    "\n",
    "    for vertex in access.getVertices():\n",
    "        verts.append(vertex.getPosition().reshape(1, 3))\n",
    "\n",
    "    for face in access.getTriangles():\n",
    "        faces.append([offset + face.getEndpoint1(), offset + face.getEndpoint2(), offset + face.getEndpoint3()])\n",
    "        \n",
    "    offset = len(verts)\n",
    "    \n",
    "    print(file)\n",
    "    \n",
    "verts = np.array(verts)\n",
    "faces = np.array(faces)\n",
    "    \n",
    "model = stmesh.Mesh(np.zeros(faces.shape[0], dtype=stmesh.Mesh.dtype))\n",
    "for i, f in enumerate(faces):\n",
    "    for j in range(3):\n",
    "        model.vectors[i][j] = verts[f[j],:]\n",
    "    \n",
    "model.save(outdir + \"output.stl\")"
   ]
  },
  {
   "cell_type": "code",
   "execution_count": null,
   "id": "09c446f4",
   "metadata": {
    "collapsed": true
   },
   "outputs": [],
   "source": [
    "from vmtk import pypes\n",
    "from vmtk import vmtkscripts\n",
    "import pipes\n",
    "\n",
    "args = \"vmtkimagereader -ifile ./segmentations/\" + file_name + \"/mhd/\" + class_name + \".mhd --pipe vmtkimagewriter -ofile ./segmentations/\" + file_name + \"/vti/\" + class_name + \".vti\"\n",
    "                                                                \n",
    "res = pypes.PypeRun(args)"
   ]
  },
  {
   "cell_type": "code",
   "execution_count": null,
   "id": "1b28df7e",
   "metadata": {
    "collapsed": true
   },
   "outputs": [],
   "source": [
    "# Segmenting the aorta via levelsets\n",
    "\n",
    "from vmtk import pypes\n",
    "from vmtk import vmtkscripts\n",
    "\n",
    "args = \"vmtkimagereader -ifile ./segmentations/\" + file_name + \"/mhd/\" + class_name + \".mhd --pipe vmtklevelsetsegmentation -ofile ./meshes/vtp/\" + class_name + \".vtk\"\n",
    "\n",
    "pypes.PypeRun(args)"
   ]
  },
  {
   "cell_type": "code",
   "execution_count": null,
   "id": "8d24c957",
   "metadata": {
    "collapsed": true
   },
   "outputs": [],
   "source": [
    "# Clipping mesh inlets and outlets\n",
    "  \n",
    "from vmtk import pypes\n",
    "from vmtk import vmtkscripts\n",
    "\n",
    "args = \"vmtksurfaceclipper -ifile ./meshes/vtp/\" + class_name + \".vtk -ofile ./meshes/vtp/\" + class_name + \"_clip.vtk\"\n",
    "\n",
    "res = pypes.PypeRun(args)"
   ]
  },
  {
   "cell_type": "code",
   "execution_count": null,
   "id": "6bc9498c",
   "metadata": {
    "collapsed": true
   },
   "outputs": [],
   "source": [
    "# Surface smoothing\n",
    "\n",
    "from vmtk import pypes\n",
    "from vmtk import vmtkscripts\n",
    "\n",
    "args = \"vmtksurfacesmoothing -ifile ./meshes/vtp/\" + class_name + \"_clip.vtk -passband 0.1 -iterations 30 -ofile ./meshes/vtp/\" + class_name + \"_smooth.vtk\"\n",
    "\n",
    "res = pypes.PypeRun(args)"
   ]
  },
  {
   "cell_type": "code",
   "execution_count": null,
   "id": "e712dde7",
   "metadata": {
    "collapsed": true
   },
   "outputs": [],
   "source": [
    "# Surface subdivision\n",
    "\n",
    "from vmtk import pypes\n",
    "from vmtk import vmtkscripts\n",
    "\n",
    "args = \"vmtksurfacesubdivision -ifile ./meshes/vtp/\" + class_name + \"_smooth.vtk -ofile ./meshes/vtp/\" + class_name + \"_subdiv.vtk -method butterfly\"\n",
    "\n",
    "res = pypes.PypeRun(args)"
   ]
  },
  {
   "cell_type": "code",
   "execution_count": null,
   "id": "a6515e8f",
   "metadata": {
    "collapsed": true
   },
   "outputs": [],
   "source": [
    "# Comparison\n",
    "\n",
    "from vmtk import pypes\n",
    "from vmtk import vmtkscripts\n",
    "\n",
    "args = \"vmtksurfacereader -ifile ./meshes/vtp/\" + class_name + \"_clip.vtk --pipe vmtksurfacesmoothing -iterations 30 -passband 0.1 --pipe vmtkrenderer --pipe vmtksurfaceviewer -display 0 --pipe vmtksurfaceviewer -i @vmtksurfacereader.o -color 1 0 0 -display 1\"\n",
    "\n",
    "res = pypes.PypeRun(args)"
   ]
  },
  {
   "cell_type": "code",
   "execution_count": null,
   "id": "327a31ed",
   "metadata": {
    "collapsed": true
   },
   "outputs": [],
   "source": [
    "# Centerline computation\n",
    "\n",
    "from vmtk import pypes\n",
    "from vmtk import vmtkscripts\n",
    "\n",
    "args = \"vmtkcenterlines -ifile ./meshes/vtp/\" + class_name + \"_smooth.vtk -ofile ./meshes/vtp/\" + class_name + \"_centerline.vtk\"\n",
    "\n",
    "res = pypes.PypeRun(args)"
   ]
  },
  {
   "cell_type": "code",
   "execution_count": null,
   "id": "3005b59e",
   "metadata": {
    "collapsed": true
   },
   "outputs": [],
   "source": [
    "# Centerline computation visualization\n",
    "\n",
    "from vmtk import pypes\n",
    "from vmtk import vmtkscripts\n",
    "\n",
    "args = \"vmtksurfacereader -ifile ./meshes/vtp/\" + class_name + \"_smooth.vtk --pipe vmtkcenterlines --pipe vmtkrenderer --pipe vmtksurfaceviewer -opacity 0.25 --pipe vmtksurfaceviewer -i @vmtkcenterlines.voronoidiagram -array MaximumInscribedSphereRadius --pipe vmtksurfaceviewer -i @vmtkcenterlines.o\"\n",
    "\n",
    "res = pypes.PypeRun(args)"
   ]
  },
  {
   "cell_type": "markdown",
   "id": "0d08fc4c",
   "metadata": {},
   "source": [
    "Centerline extraction using skeletonization with voxel structures"
   ]
  },
  {
   "cell_type": "code",
   "execution_count": null,
   "id": "4dc86d5e",
   "metadata": {
    "collapsed": true
   },
   "outputs": [],
   "source": [
    "# Alternative voxel-based centerline extraction\n",
    "\n",
    "import SimpleITK as sitk\n",
    "import os\n",
    "import numpy as np\n",
    "import time\n",
    "from scipy.ndimage import binary_erosion\n",
    "\n",
    "file = \"./segmentations/\" + file_name + \"/mhd/\" + class_name \".mhd\"\n",
    "\n",
    "img = sitk.ReadImage(file)\n",
    "\n",
    "array = sitk.GetArrayFromImage(img)\n",
    "\n",
    "eroded = array\n",
    "\n",
    "start = time.perf_counter()\n",
    "\n",
    "print(np.max(array))\n",
    "\n",
    "for i in range(0, 10):\n",
    "    eroded = binary_erosion(eroded)\n",
    "    array += eroded\n",
    "    \n",
    "end = time.perf_counter()\n",
    "\n",
    "maxval = np.max(array)\n",
    "\n",
    "print(end - start)\n",
    "print(maxval)\n",
    "\n",
    "centerline = []\n",
    "\n",
    "size = array.shape\n",
    "\n",
    "for x in range(0, size[0]):\n",
    "    for y in range(0, size[1]):\n",
    "        for z in range(0, size[2]):\n",
    "            if (array[x][y][z] == maxval):\n",
    "                centerline.append((x, y, z))"
   ]
  },
  {
   "cell_type": "markdown",
   "id": "486fcb40",
   "metadata": {},
   "source": [
    "Mesh extraction using GMSH from prepared VTK surface mesh"
   ]
  },
  {
   "cell_type": "code",
   "execution_count": null,
   "id": "e6690c30",
   "metadata": {
    "collapsed": true
   },
   "outputs": [],
   "source": [
    "import os\n",
    "import vtk\n",
    "\n",
    "outdir = \"./meshes/\";\n",
    "\n",
    "# Aorta\n",
    "filepath = \"./meshes/vtp/\" + class_name + \"_smooth.vtk\"\n",
    "\n",
    "verts = []\n",
    "faces = []\n",
    "\n",
    "offset = 0\n",
    "\n",
    "basename = os.path.basename(filepath)\n",
    "print(\"Copying file:\", basename)\n",
    "basename = os.path.splitext(basename)[0]\n",
    "outfile = os.path.join(outdir, basename+\".stl\")\n",
    "reader = vtk.vtkGenericDataObjectReader()\n",
    "reader.SetFileName(filepath)\n",
    "reader.Update()\n",
    "writer = vtk.vtkSTLWriter()\n",
    "writer.SetInputConnection(reader.GetOutputPort())\n",
    "writer.SetFileName(outfile)\n",
    "writer.Write()"
   ]
  },
  {
   "cell_type": "code",
   "execution_count": 4,
   "id": "39551d65",
   "metadata": {},
   "outputs": [],
   "source": [
    "import gmsh\n",
    "import sys\n",
    "import os\n",
    "import math\n",
    "\n",
    "gmsh.initialize(sys.argv)\n",
    "\n",
    "# merge STL, create surface patches that are reparametrizable (so we can remesh\n",
    "# them) and compute the parametrizations\n",
    "gmsh.merge(os.path.join('./meshes/vtp/aorta.stl'))\n",
    "gmsh.model.mesh.classifySurfaces(math.pi, True, True)\n",
    "gmsh.model.mesh.createGeometry()\n",
    "\n",
    "# make extrusions only return \"top\" surfaces and volumes, not lateral surfaces\n",
    "gmsh.option.setNumber('Geometry.ExtrudeReturnLateralEntities', 0)\n",
    "\n",
    "# extrude a boundary layer of 4 elements using mesh normals (thickness = 0.5)\n",
    "gmsh.model.geo.extrudeBoundaryLayer(gmsh.model.getEntities(2), [4], [1.0], True)\n",
    "\n",
    "# extrude a second boundary layer in the opposite direction (note the `second ==\n",
    "# True' argument to distinguish it from the first one)\n",
    "e = gmsh.model.geo.extrudeBoundaryLayer(gmsh.model.getEntities(2), [4], [-1.0],\n",
    "                                        True, True)\n",
    "\n",
    "# get \"top\" surfaces created by extrusion\n",
    "top_ent = [s for s in e if s[0] == 2]\n",
    "top_surf = [s[1] for s in top_ent]\n",
    "\n",
    "# get boundary of top surfaces, i.e. boundaries of holes\n",
    "gmsh.model.geo.synchronize()\n",
    "bnd_ent = gmsh.model.getBoundary(top_ent)\n",
    "bnd_curv = [c[1] for c in bnd_ent]\n",
    "\n",
    "# create plane surfaces filling the holes\n",
    "loops = gmsh.model.geo.addCurveLoops(bnd_curv)\n",
    "for l in loops:\n",
    "    top_surf.append(gmsh.model.geo.addPlaneSurface([l]))\n",
    "\n",
    "# create the inner volume\n",
    "gmsh.model.geo.addVolume([gmsh.model.geo.addSurfaceLoop(top_surf)])\n",
    "gmsh.model.geo.synchronize()\n",
    "\n",
    "# use MeshAdapt for the resulting not-so-smooth parametrizations\n",
    "gmsh.option.setNumber('Mesh.Algorithm', 1)\n",
    "gmsh.option.setNumber('Mesh.MeshSizeFactor', 0.1)\n",
    "\n",
    "if '-nopopup' not in sys.argv:\n",
    "    gmsh.fltk.run()\n",
    "\n",
    "gmsh.finalize()\n"
   ]
  },
  {
   "cell_type": "code",
   "execution_count": null,
   "id": "7fb17723",
   "metadata": {
    "collapsed": true
   },
   "outputs": [],
   "source": []
  },
  {
   "cell_type": "code",
   "execution_count": null,
   "id": "b6bce7b7",
   "metadata": {
    "collapsed": true
   },
   "outputs": [],
   "source": []
  }
 ],
 "metadata": {
  "kernelspec": {
   "display_name": "Python 3",
   "language": "python",
   "name": "python3"
  },
  "language_info": {
   "codemirror_mode": {
    "name": "ipython",
    "version": 3
   },
   "file_extension": ".py",
   "mimetype": "text/x-python",
   "name": "python",
   "nbconvert_exporter": "python",
   "pygments_lexer": "ipython3",
   "version": "3.6.1"
  }
 },
 "nbformat": 4,
 "nbformat_minor": 5
}
